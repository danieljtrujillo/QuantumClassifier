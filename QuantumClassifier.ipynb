{
  "nbformat": 4,
  "nbformat_minor": 0,
  "metadata": {
    "colab": {
      "name": "QuantumClassifier.ipynb",
      "provenance": [],
      "collapsed_sections": [],
      "machine_shape": "hm",
      "authorship_tag": "ABX9TyOodf6nPUAr9Hyd+IgGy7eK",
      "include_colab_link": true
    },
    "kernelspec": {
      "name": "python3",
      "display_name": "Python 3"
    },
    "accelerator": "GPU"
  },
  "cells": [
    {
      "cell_type": "markdown",
      "metadata": {
        "id": "view-in-github",
        "colab_type": "text"
      },
      "source": [
        "<a href=\"https://colab.research.google.com/github/danieljtrujillo/QuantumClassifier/blob/main/QuantumClassifier.ipynb\" target=\"_parent\"><img src=\"https://colab.research.google.com/assets/colab-badge.svg\" alt=\"Open In Colab\"/></a>"
      ]
    },
    {
      "cell_type": "markdown",
      "metadata": {
        "id": "HoT54FLMiBxN"
      },
      "source": [
        "The Sieve of Eratosthenes for to demonstrate the calculation of prime numbers. The following 2 cells currently have no influence on the Quantum Machine Learning cells, so they may be skipped if you don't feel like learning how to calculate prime numbers. "
      ]
    },
    {
      "cell_type": "code",
      "metadata": {
        "id": "tfLRi7xRL4E0"
      },
      "source": [
        "def factorizer(n):\n",
        "    v = []\n",
        "    n = int(n)\n",
        "    out =''\n",
        "    for i in range(1000):\n",
        "      v.append(1)\n",
        "\n",
        "    for j in range(2, n):\n",
        "     if v[j]:\n",
        "       k=2\n",
        "       while k*j <=n:\n",
        "         v[k*j] = 0\n",
        "         k+=1\n",
        "\n",
        "    for i in range(2, n):\n",
        "      if v[i]:\n",
        "        out += str(i) + ' '\n",
        "    return out"
      ],
      "execution_count": 9,
      "outputs": []
    },
    {
      "cell_type": "markdown",
      "metadata": {
        "id": "5zLZZpw_j8fR"
      },
      "source": [
        "Print all prime numbers up to any chosen number. Replace 97 with whatever number you would like to calculate up to. "
      ]
    },
    {
      "cell_type": "code",
      "metadata": {
        "colab": {
          "base_uri": "https://localhost:8080/"
        },
        "id": "CKv49EBqL7Ff",
        "outputId": "7d387551-4fc6-4ed0-d0a6-74a82a0b603a"
      },
      "source": [
        "n = int(97)\n",
        "print(factorizer(n))"
      ],
      "execution_count": 10,
      "outputs": [
        {
          "output_type": "stream",
          "text": [
            "2 3 5 7 11 13 17 19 23 29 31 37 41 43 47 53 59 61 67 71 73 79 83 89 \n"
          ],
          "name": "stdout"
        }
      ]
    },
    {
      "cell_type": "markdown",
      "metadata": {
        "id": "VoDkkR5Ih4yu"
      },
      "source": [
        "Now on to the Quantum Machine Learning"
      ]
    },
    {
      "cell_type": "code",
      "metadata": {
        "id": "dyGxx-pPZD5u"
      },
      "source": [
        "!pip install pennylane"
      ],
      "execution_count": null,
      "outputs": []
    },
    {
      "cell_type": "markdown",
      "metadata": {
        "id": "7vEuZFZkeSR_"
      },
      "source": [
        "THERE IS CURRENTLY A BUG IN RUNNING PENNYLANE/COLAB TOGETHER THAT MIGHT REQUIRE YOU TO RESTART RUNTIME AFTER INSTALLING PENNYLANE, BUT BEFORE RUNNING THIS CELL"
      ]
    },
    {
      "cell_type": "code",
      "metadata": {
        "id": "ViWCl4CeO9bW"
      },
      "source": [
        "import pennylane as qml\n",
        "from pennylane import numpy as np\n",
        "\n",
        "dev1 = qml.device(\"default.qubit\", wires=1)\n",
        "\n",
        "@qml.qnode(dev1)\n",
        "def circuit(params):\n",
        "  qml.RX(params[0], wires=0)\n",
        "  qml.RY(params[1], wires=0)\n",
        "  qml.RX(params[0], wires=0)\n",
        "  qml.RY(params[1], wires=0)\n",
        "  return qml.expval(qml.PauliZ(0))\n",
        "\n",
        "print(circuit([0.54, 0.12]))\n",
        "\n",
        "def cost(x):\n",
        "  return circuit(x)\n",
        "\n",
        "init_params = np.array([0.011, 0.012])\n",
        "print(cost(init_params))\n",
        "\n",
        "opt = qml.GradientDescentOptimizer(stepsize=0.4)\n",
        "\n",
        "steps = 100\n",
        "\n",
        "params = init_params\n",
        "\n",
        "for i in range(steps):\n",
        "  params = opt.step(cost, params)\n",
        "\n",
        "  if (i + 1) % 5 == 0:\n",
        "    print(\"Cost after step {:5d}: {: .7f}\".format(i + 1, cost(params)))\n",
        "\n",
        "print(\"Optimized rotation angles: {}\".format(params))\n"
      ],
      "execution_count": null,
      "outputs": []
    }
  ]
}