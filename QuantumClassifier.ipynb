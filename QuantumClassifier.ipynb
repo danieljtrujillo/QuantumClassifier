{
  "nbformat": 4,
  "nbformat_minor": 0,
  "metadata": {
    "colab": {
      "name": "QuantumClassifier.ipynb",
      "provenance": [],
      "collapsed_sections": [],
      "machine_shape": "hm",
      "authorship_tag": "ABX9TyPPJV7QUNvWBhJo3TEBwhNK",
      "include_colab_link": true
    },
    "kernelspec": {
      "name": "python3",
      "display_name": "Python 3"
    },
    "accelerator": "GPU"
  },
  "cells": [
    {
      "cell_type": "markdown",
      "metadata": {
        "id": "view-in-github",
        "colab_type": "text"
      },
      "source": [
        "<a href=\"https://colab.research.google.com/github/danieljtrujillo/QuantumClassifier/blob/main/QuantumClassifier.ipynb\" target=\"_parent\"><img src=\"https://colab.research.google.com/assets/colab-badge.svg\" alt=\"Open In Colab\"/></a>"
      ]
    },
    {
      "cell_type": "code",
      "metadata": {
        "id": "tfLRi7xRL4E0"
      },
      "source": [
        "def factorizer(n):\n",
        "    v = []\n",
        "    n = int(n)\n",
        "    out =''\n",
        "    for i in range(1000):\n",
        "      v.append(1)\n",
        "\n",
        "    for j in range(2, n):\n",
        "     if v[j]:\n",
        "       k=2\n",
        "       while k*j <=n:\n",
        "         v[k*j] = 0\n",
        "         k+=1\n",
        "\n",
        "    for i in range(2, n):\n",
        "      if v[i]:\n",
        "        out += str(i) + ''\n",
        "    return out"
      ],
      "execution_count": null,
      "outputs": []
    },
    {
      "cell_type": "code",
      "metadata": {
        "id": "CKv49EBqL7Ff"
      },
      "source": [
        "n = int(97)\n",
        "print(factorizer(n))"
      ],
      "execution_count": null,
      "outputs": []
    },
    {
      "cell_type": "code",
      "metadata": {
        "id": "dyGxx-pPZD5u"
      },
      "source": [
        "!pip install pennylane"
      ],
      "execution_count": null,
      "outputs": []
    },
    {
      "cell_type": "markdown",
      "metadata": {
        "id": "7vEuZFZkeSR_"
      },
      "source": [
        "THERE IS CURRENTLY A BUG IN RUNNING PENNYLANE/COLAB TOGETHER THAT MIGHT REQUIRE YOU TO RESTART RUNTIME AFTER INSTALLING PENNYLANE, BUT BEFORE RUNNING THIS CELL"
      ]
    },
    {
      "cell_type": "code",
      "metadata": {
        "id": "ViWCl4CeO9bW"
      },
      "source": [
        "import pennylane as qml\n",
        "from pennylane import numpy as np\n",
        "\n",
        "dev1 = qml.device(\"default.qubit\", wires=1)\n",
        "\n",
        "@qml.qnode(dev1)\n",
        "def circuit(params):\n",
        "  qml.RX(params[0], wires=0)\n",
        "  qml.RY(params[1], wires=0)\n",
        "  qml.RX(params[0], wires=0)\n",
        "  qml.RY(params[1], wires=0)\n",
        "  return qml.expval(qml.PauliZ(0))\n",
        "\n",
        "print(circuit([0.54, 0.12]))\n",
        "\n",
        "def cost(x):\n",
        "  return circuit(x)\n",
        "\n",
        "init_params = np.array([0.011, 0.012])\n",
        "print(cost(init_params))\n",
        "\n",
        "opt = qml.GradientDescentOptimizer(stepsize=0.4)\n",
        "\n",
        "steps = 100\n",
        "\n",
        "params = init_params\n",
        "\n",
        "for i in range(steps):\n",
        "  params = opt.step(cost, params)\n",
        "\n",
        "  if (i + 1) % 5 == 0:\n",
        "    print(\"Cost after step {:5d}: {: .7f}\".format(i + 1, cost(params)))\n",
        "\n",
        "print(\"Optimized rotation angles: {}\".format(params))\n"
      ],
      "execution_count": null,
      "outputs": []
    }
  ]
}