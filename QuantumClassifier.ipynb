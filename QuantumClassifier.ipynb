{
  "nbformat": 4,
  "nbformat_minor": 0,
  "metadata": {
    "colab": {
      "name": "QuantumClassifier.ipynb",
      "provenance": [],
      "collapsed_sections": [],
      "machine_shape": "hm",
      "authorship_tag": "ABX9TyPPJV7QUNvWBhJo3TEBwhNK",
      "include_colab_link": true
    },
    "kernelspec": {
      "name": "python3",
      "display_name": "Python 3"
    },
    "accelerator": "GPU"
  },
  "cells": [
    {
      "cell_type": "markdown",
      "metadata": {
        "id": "view-in-github",
        "colab_type": "text"
      },
      "source": [
        "<a href=\"https://colab.research.google.com/github/danieljtrujillo/QuantumClassifier/blob/main/QuantumClassifier.ipynb\" target=\"_parent\"><img src=\"https://colab.research.google.com/assets/colab-badge.svg\" alt=\"Open In Colab\"/></a>"
      ]
    },
    {
      "cell_type": "code",
      "metadata": {
        "id": "tfLRi7xRL4E0"
      },
      "source": [
        "def factorizer(n):\n",
        "    v = []\n",
        "    n = int(n)\n",
        "    out =''\n",
        "    for i in range(1000):\n",
        "      v.append(1)\n",
        "\n",
        "    for j in range(2, n):\n",
        "     if v[j]:\n",
        "       k=2\n",
        "       while k*j <=n:\n",
        "         v[k*j] = 0\n",
        "         k+=1\n",
        "\n",
        "    for i in range(2, n):\n",
        "      if v[i]:\n",
        "        out += str(i) + ''\n",
        "    return out"
      ],
      "execution_count": null,
      "outputs": []
    },
    {
      "cell_type": "code",
      "metadata": {
        "colab": {
          "base_uri": "https://localhost:8080/"
        },
        "id": "CKv49EBqL7Ff",
        "outputId": "1d289ee1-623a-43df-a8a1-b7270333b71d"
      },
      "source": [
        "n = int(97)\n",
        "print(factorizer(n))"
      ],
      "execution_count": null,
      "outputs": [
        {
          "output_type": "stream",
          "text": [
            "23571113171923293137414347535961677173798389\n"
          ],
          "name": "stdout"
        }
      ]
    },
    {
      "cell_type": "code",
      "metadata": {
        "id": "dyGxx-pPZD5u"
      },
      "source": [
        "!pip install pennylane"
      ],
      "execution_count": null,
      "outputs": []
    },
    {
      "cell_type": "markdown",
      "metadata": {
        "id": "7vEuZFZkeSR_"
      },
      "source": [
        "THERE IS CURRENTLY A BUG IN RUNNING PENNYLANE/COLAB TOGETHER THAT MIGHT REQUIRE YOU TO RESTART RUNTIME AFTER INSTALLING PENNYLANE, BUT BEFORE RUNNING THIS CELL"
      ]
    },
    {
      "cell_type": "code",
      "metadata": {
        "colab": {
          "base_uri": "https://localhost:8080/"
        },
        "id": "ViWCl4CeO9bW",
        "outputId": "2c8147a8-46fa-48fd-e4f2-02534e829257"
      },
      "source": [
        "import pennylane as qml\n",
        "from pennylane import numpy as np\n",
        "\n",
        "dev1 = qml.device(\"default.qubit\", wires=1)\n",
        "\n",
        "@qml.qnode(dev1)\n",
        "def circuit(params):\n",
        "  qml.RX(params[0], wires=0)\n",
        "  qml.RY(params[1], wires=0)\n",
        "  qml.RX(params[0], wires=0)\n",
        "  qml.RY(params[1], wires=0)\n",
        "  return qml.expval(qml.PauliZ(0))\n",
        "\n",
        "print(circuit([0.54, 0.12]))\n",
        "\n",
        "def cost(x):\n",
        "  return circuit(x)\n",
        "\n",
        "init_params = np.array([0.011, 0.012])\n",
        "print(cost(init_params))\n",
        "\n",
        "opt = qml.GradientDescentOptimizer(stepsize=0.4)\n",
        "\n",
        "steps = 100\n",
        "\n",
        "params = init_params\n",
        "\n",
        "for i in range(steps):\n",
        "  params = opt.step(cost, params)\n",
        "\n",
        "  if (i + 1) % 5 == 0:\n",
        "    print(\"Cost after step {:5d}: {: .7f}\".format(i + 1, cost(params)))\n",
        "\n",
        "print(\"Optimized rotation angles: {}\".format(params))\n"
      ],
      "execution_count": 1,
      "outputs": [
        {
          "output_type": "stream",
          "text": [
            "0.45039465275606094\n",
            "0.9994700584297429\n",
            "Cost after step     5: -0.6860713\n",
            "Cost after step    10: -0.7794672\n",
            "Cost after step    15: -0.9927786\n",
            "Cost after step    20: -0.9999548\n",
            "Cost after step    25: -0.9999997\n",
            "Cost after step    30: -1.0000000\n",
            "Cost after step    35: -1.0000000\n",
            "Cost after step    40: -1.0000000\n",
            "Cost after step    45: -1.0000000\n",
            "Cost after step    50: -1.0000000\n",
            "Cost after step    55: -1.0000000\n",
            "Cost after step    60: -1.0000000\n",
            "Cost after step    65: -1.0000000\n",
            "Cost after step    70: -1.0000000\n",
            "Cost after step    75: -1.0000000\n",
            "Cost after step    80: -1.0000000\n",
            "Cost after step    85: -1.0000000\n",
            "Cost after step    90: -1.0000000\n",
            "Cost after step    95: -1.0000000\n",
            "Cost after step   100: -1.0000000\n",
            "Optimized rotation angles: [4.12069004e-17 1.57079633e+00]\n"
          ],
          "name": "stdout"
        }
      ]
    }
  ]
}